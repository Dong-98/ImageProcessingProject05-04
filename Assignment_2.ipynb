{
 "cells": [
  {
   "cell_type": "markdown",
   "metadata": {},
   "source": [
    "# Assignment 2\n",
    "# Project 05-04: Parametric Wiener Filter\n",
    "# Part (a)"
   ]
  },
  {
   "cell_type": "code",
   "execution_count": null,
   "metadata": {},
   "outputs": [],
   "source": [
    "import cv2 as cv\n",
    "import numpy as np\n",
    "from matplotlib import pyplot as plt\n",
    "from skimage import color, data, restoration\n",
    "from skimage.io import imread\n",
    "from scipy.signal import convolve2d as conv2"
   ]
  },
  {
   "cell_type": "code",
   "execution_count": null,
   "metadata": {},
   "outputs": [],
   "source": [
    "image = cv.imread('Image5.26.jpg')"
   ]
  },
  {
   "cell_type": "code",
   "execution_count": null,
   "metadata": {},
   "outputs": [],
   "source": [
    "size = 70\n",
    "motion_blur = np.zeros((size,size))\n",
    "motion_blur[:,int((size-1)/10)] = np.ones(size)\n",
    "motion_blur = motion_blur / size\n",
    "blurred = cv.filter2D(image,-1,motion_blur)"
   ]
  },
  {
   "cell_type": "code",
   "execution_count": null,
   "metadata": {},
   "outputs": [],
   "source": [
    "plt.subplot(121),plt.imshow(image),plt.title('Original')\n",
    "plt.xticks([]),plt.yticks([])\n",
    "plt.subplot(122),plt.imshow(blurred),plt.title('Blurred')\n",
    "plt.xticks([]),plt.yticks([])\n",
    "plt.show()"
   ]
  },
  {
   "cell_type": "markdown",
   "metadata": {},
   "source": [
    "# Part (b)"
   ]
  },
  {
   "cell_type": "code",
   "execution_count": null,
   "metadata": {},
   "outputs": [],
   "source": [
    "blurred = cv.filter2D(image,-1,motion_blur)"
   ]
  },
  {
   "cell_type": "code",
   "execution_count": null,
   "metadata": {},
   "outputs": [],
   "source": [
    "number_rows, number_columns = image.shape[:2]"
   ]
  },
  {
   "cell_type": "code",
   "execution_count": null,
   "metadata": {},
   "outputs": [],
   "source": [
    "matrix_rotation = cv.getRotationMatrix2D((number_columns/2, number_rows/2),45,1)\n",
    "blurred_rotation = cv.warpAffine(blurred, matrix_rotation, (number_columns, number_rows))\n",
    "plt.subplot(121),plt.imshow(blurred),plt.title('Blurred Original')\n",
    "plt.xticks([]),plt.yticks([])\n",
    "plt.subplot(122),plt.imshow(blurred_rotation),plt.title('Blurred Rotated')\n",
    "plt.xticks([]),plt.yticks([])\n",
    "plt.show()"
   ]
  },
  {
   "cell_type": "markdown",
   "metadata": {},
   "source": [
    "# Part (c)"
   ]
  },
  {
   "cell_type": "code",
   "execution_count": null,
   "metadata": {},
   "outputs": [],
   "source": [
    "img = blurred\n",
    "gauss = np.random.normal(0,3,img.size)\n",
    "gauss = gauss.reshape(img.shape[0],img.shape[1],img.shape[2]).astype('uint8')\n",
    "img_gauss = cv.add(img,gauss)\n",
    "cv.imshow('Gaussian noise added',img_gauss)\n",
    "cv.waitKey(1)\n",
    "cv.imwrite(\"Gaussian noise added.jpg\",img_gauss)"
   ]
  },
  {
   "cell_type": "markdown",
   "metadata": {},
   "source": [
    "# Part (d)"
   ]
  },
  {
   "cell_type": "code",
   "execution_count": null,
   "metadata": {},
   "outputs": [],
   "source": [
    "picture = color.rgb2gray(imread('Image5.26.jpg'))\n",
    "psf = np.ones((5, 5),dtype=np.uint8) / 25\n",
    "picture = conv2(picture, psf, 'same')\n",
    "picture += 0.8 * picture.std() * np.random.standard_normal(picture.shape)\n",
    "\n",
    "restore = restoration.wiener(picture, psf, 1)\n",
    "fig, ax = plt.subplots(nrows=1, ncols=2, figsize=(10, 5))\n",
    "\n",
    "ax[0].imshow(picture, vmin=restore.min(), vmax=restore.max())\n",
    "ax[0].set_title('Picture with noise')\n",
    "\n",
    "ax[1].imshow(restore)\n",
    "ax[1].set_title('Restoration')\n",
    "\n",
    "plt.show()"
   ]
  },
  {
   "cell_type": "code",
   "execution_count": null,
   "metadata": {},
   "outputs": [],
   "source": []
  }
 ],
 "metadata": {
  "kernelspec": {
   "display_name": "Python 3",
   "language": "python",
   "name": "python3"
  },
  "language_info": {
   "codemirror_mode": {
    "name": "ipython",
    "version": 3
   },
   "file_extension": ".py",
   "mimetype": "text/x-python",
   "name": "python",
   "nbconvert_exporter": "python",
   "pygments_lexer": "ipython3",
   "version": "3.6.6"
  }
 },
 "nbformat": 4,
 "nbformat_minor": 2
}
